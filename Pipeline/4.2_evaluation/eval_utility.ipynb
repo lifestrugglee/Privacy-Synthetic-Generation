{
 "cells": [
  {
   "cell_type": "code",
   "execution_count": 3,
   "id": "d2a9c07c-e064-4a21-88e7-0b71b6dcab02",
   "metadata": {},
   "outputs": [],
   "source": [
    "# !nvidia-smi\n",
    "# !pip install seaborn"
   ]
  },
  {
   "cell_type": "code",
   "execution_count": 1,
   "id": "2fcdccb4-bee9-45b6-94fc-804e9c793305",
   "metadata": {},
   "outputs": [],
   "source": [
    "import re\n",
    "import os\n",
    "import pandas as pd\n",
    "import numpy as np\n",
    "import json\n",
    "from pathlib import Path\n",
    "from glob import glob\n",
    "from tqdm import tqdm\n",
    "import seaborn as sns\n",
    "import matplotlib.pyplot as plt\n",
    "import time\n",
    "import pickle\n",
    "def writePickle(file_path, sth):\n",
    "    # store list in binary file so 'wb' mode\n",
    "    with open(file_path, 'wb') as fp:\n",
    "        pickle.dump(sth, fp)\n",
    "\n",
    "def loadPickle(file_path):\n",
    "    # for reading also binary mode is important\n",
    "    with open(file_path, 'rb') as fp:\n",
    "        return pickle.load(fp)\n",
    "\n",
    "import sys\n",
    "sys.path.append(\"/home/privacy/\")\n",
    "import icd9_obj \n",
    "icd9obj = icd9_obj.ICD9_obj()\n",
    "\n",
    "import lineTool\n",
    "def lineMSG(pushMsg):\n",
    "    token = 'Sv0neOgZSZVmh7YFm2SGvnjpanXFa4OoIJ8ISmJvnlO'\n",
    "    # Sv0neOgZSZVmh7YFm2SGvnjpanXFa4OoIJ8ISmJvnlO\n",
    "    lineTool.lineNotify(token, pushMsg)"
   ]
  },
  {
   "cell_type": "code",
   "execution_count": 3,
   "id": "dd15a531-3a3a-401b-9775-64c630cd57a1",
   "metadata": {},
   "outputs": [],
   "source": [
    "# os.system('nvidia-smi')"
   ]
  },
  {
   "cell_type": "code",
   "execution_count": 4,
   "id": "41c9f788-78f1-4b67-a4c2-0a326490e9bf",
   "metadata": {},
   "outputs": [
    {
     "name": "stdout",
     "output_type": "stream",
     "text": [
      "cuda\n"
     ]
    }
   ],
   "source": [
    "# import torch\n",
    "# os.environ[\"CUDA_DEVICE_ORDER\"] = \"PCI_BUS_ID\"\n",
    "# os.environ[\"CUDA_VISIBLE_DEVICES\"] = \"2\"\n",
    "# device = \"cuda\" if torch.cuda.is_available() else \"CPU\"\n",
    "# print(device)"
   ]
  },
  {
   "cell_type": "code",
   "execution_count": 2,
   "id": "bb002b89-eb5b-41f6-9a22-4560414bc189",
   "metadata": {},
   "outputs": [],
   "source": [
    "def getCategory(fn):\n",
    "    \n",
    "    data_type = 'reid'; gener_type = 'Oneshot'; model = 'GPT-35'\n",
    "    if 'deid' in fn: data_type = 'deid'\n",
    "    if 'keyword' in fn: \n",
    "        gener_type = 'Keyword'\n",
    "    elif 'one_shot_src' in fn:\n",
    "        gener_type = 'Normalized Oneshot'\n",
    "    if 'gpt-4' in fn:\n",
    "        model = 'GPT-4'\n",
    "    elif 'Mistral7b' in fn:\n",
    "        model = 'Mistral7b'\n",
    "    return data_type, gener_type, model\n",
    "\n",
    "# fn = os.path.basename(pk_fn).replace('.pickle', '')\n",
    "# print(fn, getCategory(fn))"
   ]
  },
  {
   "cell_type": "code",
   "execution_count": 3,
   "id": "f61899e2-c8aa-4cab-bd11-a915f8b1a942",
   "metadata": {},
   "outputs": [],
   "source": [
    "root = r'/home/privacy/data/MIMIC3'\n",
    "\n",
    "data_type_ls = ['reid', 'deid']\n",
    "data_type = data_type_ls[0]\n",
    "\n",
    "src_data_dict = {\n",
    "    'reid': r'/home/privacy/data/MIMIC_reid_val_record_20230704/',\n",
    "    'deid': r'/home/privacy/data/MIMICIII_ori_nosp/',\n",
    "}\n",
    "\n",
    "prompt_dir = os.path.join( root, f'src_{data_type}', 'output_csv_4k_n')\n",
    "\n",
    "generation_ls = ['one_shot', 'keyword', 'one_shot_src']\n",
    "generation_type = 'one_shot'\n",
    "TOT_NUM = 9817\n",
    "\n",
    "model_ls = [ 'gpt-35-turbo-a0301',  'gpt-4-0613', 'Mistral7b']\n",
    "model = model_ls[0]\n",
    "\n",
    "NORMAL4K = 'normal4k'\n",
    "OUTPUT_DIR = 'output_csv_4k_n'"
   ]
  },
  {
   "cell_type": "markdown",
   "id": "cd966696-f3c6-484f-a31b-27632c42d536",
   "metadata": {},
   "source": [
    "# Check on similarity\n",
    "## Comparison type **1** vs **1**\n",
    "- syn notes vs src notes\n",
    "- normalized + 4k: syn vs src"
   ]
  },
  {
   "cell_type": "markdown",
   "id": "85f2b2a7-1afe-4d37-8aa9-76f183df2150",
   "metadata": {},
   "source": [
    "## Calculate ROUGE"
   ]
  },
  {
   "cell_type": "code",
   "execution_count": 4,
   "id": "e7b7752d-1390-4f64-b4e4-4bdbadf5fd20",
   "metadata": {},
   "outputs": [],
   "source": [
    "from rouge_score import rouge_scorer"
   ]
  },
  {
   "cell_type": "code",
   "execution_count": 4,
   "id": "7db0b59f-d08d-4b03-9c5c-595d5299af39",
   "metadata": {},
   "outputs": [],
   "source": [
    "result_dir = r'./util_eval/rouge'\n",
    "Path(result_dir).mkdir(parents=True, exist_ok=True)\n",
    "\n",
    "rouge_name_ls = ['rouge1', 'rouge2', 'rouge3', 'rougeL']\n",
    "rouge_col_ls = ['precision', 'recall', 'fmeasure']\n",
    "prefix_str = 'Write a description of a patient using 2250 words containing the following phrases sequentially:\\n'\n",
    "postfix_str = '.\\n###'"
   ]
  },
  {
   "cell_type": "code",
   "execution_count": 9,
   "id": "7589bc14-2461-468e-992f-70c47af01fc8",
   "metadata": {},
   "outputs": [],
   "source": [
    "# from rouge_score import rouge_scorer\n",
    "# result_dir = r'./util_eval/rouge'\n",
    "# Path(result_dir).mkdir(parents=True, exist_ok=True)\n",
    "\n",
    "# rouge_name_ls = ['rouge1', 'rouge2', 'rouge3', 'rougeL']\n",
    "# rouge_col_ls = ['precision', 'recall', 'fmeasure']\n",
    "# prefix_str = 'Write a description of a patient using 2250 words containing the following phrases sequentially:\\n'\n",
    "# postfix_str = '.\\n###'"
   ]
  },
  {
   "cell_type": "markdown",
   "id": "64d2111e-3da3-4f4d-b7ed-6ffc260350df",
   "metadata": {},
   "source": [
    "### Syn notes vs src notes"
   ]
  },
  {
   "cell_type": "markdown",
   "id": "15d71546-2c20-4552-b91b-bdf6a3bca051",
   "metadata": {
    "jp-MarkdownHeadingCollapsed": true
   },
   "source": [
    "#### Combine"
   ]
  },
  {
   "cell_type": "code",
   "execution_count": null,
   "id": "a8b9bac1-8b41-4bbf-8c7b-fe1068109d61",
   "metadata": {},
   "outputs": [
    {
     "name": "stdout",
     "output_type": "stream",
     "text": [
      "reid_one_shot_gpt-35-turbo-a0301\n"
     ]
    }
   ],
   "source": [
    "for data_type in data_type_ls:\n",
    "    # data_type = 'deid'\n",
    "    # data_type = 'reid'\n",
    "    src_note_dir = src_data_dict[data_type]\n",
    "    for generation_type in generation_ls:\n",
    "        for model in model_ls:\n",
    "            task_name = f'{data_type}_{generation_type}_{model}'\n",
    "            print(task_name)\n",
    "            prompt_dir = os.path.join( root, f'src_{data_type}',OUTPUT_DIR)\n",
    "            \n",
    "            generation_dir = os.path.join(prompt_dir, generation_type, model)\n",
    "            syn_fls = [f'{icd9_abbr}_{fn}' for icd9_abbr in icd9obj.ICD9_ABBR_LS for fn in os.listdir(os.path.join(generation_dir, icd9_abbr))]\n",
    "            # prep for dataframe\n",
    "            df = pd.DataFrame(index=syn_fls)\n",
    "            rouge_pair_dict = {}\n",
    "            for r_name in rouge_name_ls:\n",
    "                rouge_pair_dict[r_name] = df.copy()\n",
    "            \n",
    "            scorer = rouge_scorer.RougeScorer(rouge_name_ls, use_stemmer=True)\n",
    "            rougue_pickle_fp = os.path.join(result_dir, f'{task_name}.pickle')\n",
    "            for syn_comb in syn_fls:\n",
    "                syn_icd9_abbr,_, syn_fn = syn_comb.split('_')\n",
    "                # read SRC fn\n",
    "                with open(os.path.join(src_note_dir, syn_icd9_abbr, syn_fn), 'r') as fr:\n",
    "                    src_corpus = fr.read()\n",
    "    \n",
    "                # read SYN fn\n",
    "                with open(os.path.join(generation_dir, syn_icd9_abbr, f'syn_{syn_fn}'), 'r') as fr:\n",
    "                    syn_corpus = fr.read()\n",
    "    \n",
    "                scores = scorer.score(src_corpus, syn_corpus)\n",
    "                for r_name, scores_obj in scores.items(): # ['rouge1', 'rouge2', 'rouge3', 'rougeL']\n",
    "                    for rouge_col in rouge_col_ls:\n",
    "                        rouge_pair_dict[r_name].loc[syn_comb, rouge_col] = eval(f'scores_obj.{rouge_col}')\n",
    "\n",
    "            writePickle(rougue_pickle_fp, rouge_pair_dict)\n",
    "            lineMSG(f'72\\nCheck on similarity {task_name} done!')"
   ]
  },
  {
   "cell_type": "code",
   "execution_count": null,
   "id": "8942aa17-89be-47a0-98fb-8ce2d9d65340",
   "metadata": {},
   "outputs": [],
   "source": []
  },
  {
   "cell_type": "markdown",
   "id": "d06b3a60-07ff-458d-9859-f8e8b21bdc3c",
   "metadata": {
    "jp-MarkdownHeadingCollapsed": true
   },
   "source": [
    "-End of Combine\n",
    "#### Single"
   ]
  },
  {
   "cell_type": "code",
   "execution_count": 15,
   "id": "184a7e33-7fbf-4fea-8319-111f842361fc",
   "metadata": {},
   "outputs": [
    {
     "name": "stdout",
     "output_type": "stream",
     "text": [
      "reid_one_shot_gpt-35-turbo-a0301\n"
     ]
    },
    {
     "ename": "ZeroDivisionError",
     "evalue": "division by zero",
     "output_type": "error",
     "traceback": [
      "\u001b[0;31m---------------------------------------------------------------------------\u001b[0m",
      "\u001b[0;31mZeroDivisionError\u001b[0m                         Traceback (most recent call last)",
      "Cell \u001b[0;32mIn[15], line 7\u001b[0m\n\u001b[1;32m      5\u001b[0m task_name \u001b[38;5;241m=\u001b[39m \u001b[38;5;124mf\u001b[39m\u001b[38;5;124m'\u001b[39m\u001b[38;5;132;01m{\u001b[39;00mdata_type\u001b[38;5;132;01m}\u001b[39;00m\u001b[38;5;124m_\u001b[39m\u001b[38;5;132;01m{\u001b[39;00mgeneration_type\u001b[38;5;132;01m}\u001b[39;00m\u001b[38;5;124m_\u001b[39m\u001b[38;5;132;01m{\u001b[39;00mmodel\u001b[38;5;132;01m}\u001b[39;00m\u001b[38;5;124m'\u001b[39m\n\u001b[1;32m      6\u001b[0m \u001b[38;5;28mprint\u001b[39m(task_name)\n\u001b[0;32m----> 7\u001b[0m \u001b[38;5;241;43m1\u001b[39;49m\u001b[38;5;241;43m/\u001b[39;49m\u001b[38;5;241;43m0\u001b[39;49m\n",
      "\u001b[0;31mZeroDivisionError\u001b[0m: division by zero"
     ]
    }
   ],
   "source": [
    "data_type = 'reid'\n",
    "prompt_dir = os.path.join( root, f'src_{data_type}', 'output_csv_4k_n')\n",
    "for generation_type in generation_ls:\n",
    "    for model in model_ls:\n",
    "        task_name = f'{data_type}_{generation_type}_{model}'\n",
    "        print(task_name)\n",
    "        1/0"
   ]
  },
  {
   "cell_type": "code",
   "execution_count": 20,
   "id": "4f2fb0d2-0f54-4259-802f-13f47757f506",
   "metadata": {},
   "outputs": [],
   "source": [
    "for icd9_abbr in icd9obj.ICD9_ABBR_LS[:1]:\n",
    "    syn_fls = os.listdir(os.path.join(prompt_dir, generation_type, model, icd9_abbr))\n",
    "    \n",
    "    ky_pickle = os.path.join( prompt_dir, f'keyword_{icd9_abbr}.pickle') # contains src notes\n",
    "    src_collect = loadPickle(ky_pickle)"
   ]
  },
  {
   "cell_type": "code",
   "execution_count": 24,
   "id": "79f2d516-2b81-4daf-bb7d-aca4a1bec6c7",
   "metadata": {},
   "outputs": [
    {
     "name": "stdout",
     "output_type": "stream",
     "text": [
      "syn_88116.txt 88116.txt\n"
     ]
    }
   ],
   "source": [
    "for syn_fn in syn_fls[:1]:\n",
    "    src_fn = syn_fn.replace('syn_', '')\n",
    "    print(syn_fn, src_fn)"
   ]
  },
  {
   "cell_type": "code",
   "execution_count": null,
   "id": "60e4415b-8da2-43c9-bda2-030579e61f97",
   "metadata": {},
   "outputs": [],
   "source": []
  },
  {
   "cell_type": "code",
   "execution_count": 6,
   "id": "665877e4-62d4-4fac-9ce4-36343acf80fb",
   "metadata": {},
   "outputs": [],
   "source": [
    "from rouge_score import rouge_scorer\n",
    "result_dir = r'./util_eval/rouge'\n",
    "Path(result_dir).mkdir(parents=True, exist_ok=True)\n",
    "\n",
    "rouge_name_ls = ['rouge1', 'rouge2', 'rouge3', 'rougeL']\n",
    "rouge_col_ls = ['precision', 'recall', 'fmeasure']\n",
    "prefix_str = 'Write a description of a patient using 2250 words containing the following phrases sequentially:\\n'\n",
    "postfix_str = '.\\n###'\n",
    "OUTPUT_DIR = 'output_csv_4k_n'\n",
    "fls = ['valid.csv', 'train.csv', 'test.csv']"
   ]
  },
  {
   "cell_type": "code",
   "execution_count": 18,
   "id": "242ba3a4-a7dc-4b94-9391-aebeef787070",
   "metadata": {},
   "outputs": [
    {
     "name": "stdout",
     "output_type": "stream",
     "text": [
      "reid_one_shot_gpt-35-turbo-a0301\n"
     ]
    },
    {
     "ename": "ZeroDivisionError",
     "evalue": "division by zero",
     "output_type": "error",
     "traceback": [
      "\u001b[0;31m---------------------------------------------------------------------------\u001b[0m",
      "\u001b[0;31mZeroDivisionError\u001b[0m                         Traceback (most recent call last)",
      "Cell \u001b[0;32mIn[18], line 8\u001b[0m\n\u001b[1;32m      5\u001b[0m task_name \u001b[38;5;241m=\u001b[39m \u001b[38;5;124mf\u001b[39m\u001b[38;5;124m'\u001b[39m\u001b[38;5;132;01m{\u001b[39;00mdata_type\u001b[38;5;132;01m}\u001b[39;00m\u001b[38;5;124m_\u001b[39m\u001b[38;5;132;01m{\u001b[39;00mgeneration_type\u001b[38;5;132;01m}\u001b[39;00m\u001b[38;5;124m_\u001b[39m\u001b[38;5;132;01m{\u001b[39;00mmodel\u001b[38;5;132;01m}\u001b[39;00m\u001b[38;5;124m'\u001b[39m\n\u001b[1;32m      7\u001b[0m \u001b[38;5;28mprint\u001b[39m(task_name)\n\u001b[0;32m----> 8\u001b[0m \u001b[38;5;241;43m1\u001b[39;49m\u001b[38;5;241;43m/\u001b[39;49m\u001b[38;5;241;43m0\u001b[39;49m\n",
      "\u001b[0;31mZeroDivisionError\u001b[0m: division by zero"
     ]
    }
   ],
   "source": [
    "data_type = 'reid'\n",
    "for generation_type in generation_ls:\n",
    "    prompt_dir = os.path.join( root, f'src_{data_type}', 'output_csv_4k_n')\n",
    "    for model in model_ls:\n",
    "        task_name = f'{data_type}_{generation_type}_{model}'\n",
    "        \n",
    "        print(task_name)\n",
    "        1/0"
   ]
  },
  {
   "cell_type": "code",
   "execution_count": 8,
   "id": "92f837bf-9bfa-402c-95ac-f08ddebd01fd",
   "metadata": {},
   "outputs": [
    {
     "name": "stdout",
     "output_type": "stream",
     "text": [
      "(9802, 4)\n",
      "Total number is less then 9817\n"
     ]
    }
   ],
   "source": [
    "generation_dir = os.path.join(prompt_dir, generation_type, model, OUTPUT_DIR)\n",
    "\n",
    "syn_df_ls = [pd.read_csv(os.path.join(generation_dir, fn)) for fn in fls if 'ipynb' not in fn]\n",
    "\n",
    "syn_df = pd.concat(syn_df_ls, ignore_index=True)\n",
    "\n",
    "print(syn_df.shape)\n",
    "del syn_df_ls\n",
    "if syn_df.shape[0] != icd9obj.TOT_NUM: print('Total number is less then 9817')\n",
    "syn_df['icd9_fn'] = syn_df['Three_Character_Labels'] + '_' + syn_df['Admission_Id'].astype('str')+ '.txt'"
   ]
  },
  {
   "cell_type": "code",
   "execution_count": 12,
   "id": "a68ad78d-65b5-477d-8e2a-25acffb7ae46",
   "metadata": {},
   "outputs": [
    {
     "name": "stdout",
     "output_type": "stream",
     "text": [
      "./util_eval/rouge/reid_one_shot_gpt-35-turbo-a0301_notes_level.pickle\n"
     ]
    }
   ],
   "source": [
    "# prep for dataframe\n",
    "\n",
    "df = pd.DataFrame(index=syn_df.icd9_fn.to_list())\n",
    "rouge_pair_dict = {}\n",
    "for r_name in rouge_name_ls:\n",
    "    rouge_pair_dict[r_name] = df.copy()\n",
    "\n",
    "rougue_pickle_fp = os.path.join(result_dir, f'{task_name}_notes_level.pickle')\n",
    "print(rougue_pickle_fp)"
   ]
  },
  {
   "cell_type": "code",
   "execution_count": null,
   "id": "b932e725-52a1-4713-9378-fdd53cd331a8",
   "metadata": {},
   "outputs": [],
   "source": []
  },
  {
   "cell_type": "code",
   "execution_count": 18,
   "id": "41f768db-0fe4-4a2c-8214-418885700bd0",
   "metadata": {},
   "outputs": [
    {
     "ename": "ZeroDivisionError",
     "evalue": "division by zero",
     "output_type": "error",
     "traceback": [
      "\u001b[0;31m---------------------------------------------------------------------------\u001b[0m",
      "\u001b[0;31mZeroDivisionError\u001b[0m                         Traceback (most recent call last)",
      "Cell \u001b[0;32mIn[18], line 15\u001b[0m\n\u001b[1;32m     13\u001b[0m src_keyword \u001b[38;5;241m=\u001b[39m src_collect[\u001b[38;5;124mf\u001b[39m\u001b[38;5;124m'\u001b[39m\u001b[38;5;132;01m{\u001b[39;00mfn\u001b[38;5;132;01m}\u001b[39;00m\u001b[38;5;124m.txt\u001b[39m\u001b[38;5;124m'\u001b[39m][\u001b[38;5;241m0\u001b[39m]\u001b[38;5;241m.\u001b[39mreplace(prefix_str, \u001b[38;5;124m'\u001b[39m\u001b[38;5;124m'\u001b[39m)\u001b[38;5;241m.\u001b[39mreplace(postfix_str, \u001b[38;5;124m'\u001b[39m\u001b[38;5;124m'\u001b[39m)\n\u001b[1;32m     14\u001b[0m scores \u001b[38;5;241m=\u001b[39m scorer\u001b[38;5;241m.\u001b[39mscore(src_keyword, syn_keyword)\n\u001b[0;32m---> 15\u001b[0m \u001b[38;5;241;43m1\u001b[39;49m\u001b[38;5;241;43m/\u001b[39;49m\u001b[38;5;241;43m0\u001b[39;49m\n\u001b[1;32m     16\u001b[0m \u001b[38;5;28;01mfor\u001b[39;00m r_name, scores_obj \u001b[38;5;129;01min\u001b[39;00m scores\u001b[38;5;241m.\u001b[39mitems(): \u001b[38;5;66;03m# ['rouge1', 'rouge2', 'rouge3', 'rougeL']\u001b[39;00m\n\u001b[1;32m     17\u001b[0m     \u001b[38;5;28;01mfor\u001b[39;00m rouge_col \u001b[38;5;129;01min\u001b[39;00m rouge_col_ls:\n",
      "\u001b[0;31mZeroDivisionError\u001b[0m: division by zero"
     ]
    }
   ],
   "source": [
    "scorer = rouge_scorer.RougeScorer(rouge_name_ls, use_stemmer=True)\n",
    "\n",
    "for icd9_abbr in icd9obj.ICD9_ABBR_LS[:]:\n",
    "    ky_pickle = os.path.join( prompt_dir, f'keyword_{icd9_abbr}.pickle') # contains src notes\n",
    "    src_collect = loadPickle(ky_pickle)\n",
    "    \n",
    "    data_pd = syn_df[syn_df.Full_Labels== icd9_abbr] # synthetic\n",
    "    \n",
    "    for k in data_pd.index:\n",
    "        syn_keyword = data_pd.loc[k,'Text'].replace('\\n', ', ')\n",
    "        idx = data_pd.loc[k, 'icd9_fn']\n",
    "        fn = data_pd.loc[k,'Admission_Id']\n",
    "        src_keyword = src_collect[f'{fn}.txt'][0].replace(prefix_str, '').replace(postfix_str, '')\n",
    "        scores = scorer.score(src_keyword, syn_keyword)\n",
    "        1/0\n",
    "        for r_name, scores_obj in scores.items(): # ['rouge1', 'rouge2', 'rouge3', 'rougeL']\n",
    "            for rouge_col in rouge_col_ls:\n",
    "                rouge_pair_dict[r_name].loc[idx, rouge_col] = eval(f'scores_obj.{rouge_col}')\n",
    "    writePickle(os.path.join(result_dir, f'{task_name}.pickle'), rouge_pair_dict)\n",
    "lineMSG(f'72\\nCheck on similarity {task_name} done!')"
   ]
  },
  {
   "cell_type": "markdown",
   "id": "b3d49913-a672-4a5d-bc5b-540f36ec4635",
   "metadata": {
    "jp-MarkdownHeadingCollapsed": true
   },
   "source": [
    "### Normalized + 4k: Syn text vs src text"
   ]
  },
  {
   "cell_type": "code",
   "execution_count": 6,
   "id": "f12d0f53-4db8-4c22-8c2c-d3590cd220c4",
   "metadata": {},
   "outputs": [],
   "source": [
    "from rouge_score import rouge_scorer\n",
    "result_dir = r'./util_eval/rouge/normalized_txt'\n",
    "Path(result_dir).mkdir(parents=True, exist_ok=True)\n",
    "\n",
    "rouge_name_ls = ['rouge1', 'rouge2', 'rouge3', 'rougeL']\n",
    "rouge_col_ls = ['precision', 'recall', 'fmeasure']\n",
    "prefix_str = 'Write a description of a patient using 2250 words containing the following phrases sequentially:\\n'\n",
    "postfix_str = '.\\n###'\n",
    "OUTPUT_DIR = 'output_csv_4k_n'"
   ]
  },
  {
   "cell_type": "code",
   "execution_count": null,
   "id": "ce952671-2bec-467a-a6c1-00c8f95e43e4",
   "metadata": {},
   "outputs": [
    {
     "name": "stdout",
     "output_type": "stream",
     "text": [
      "reid_one_shot_gpt-35-turbo-a0301_nor4k_txt\n"
     ]
    },
    {
     "name": "stderr",
     "output_type": "stream",
     "text": [
      "100%|██████████████████████████████████████████████████████████████████████████| 9802/9802 [1:31:00<00:00,  1.80it/s]\n"
     ]
    },
    {
     "name": "stdout",
     "output_type": "stream",
     "text": [
      "reid_one_shot_gpt-4-0613_nor4k_txt\n"
     ]
    },
    {
     "name": "stderr",
     "output_type": "stream",
     "text": [
      "100%|████████████████████████████████████████████████████████████████████████████| 9806/9806 [53:33<00:00,  3.05it/s]\n"
     ]
    },
    {
     "name": "stdout",
     "output_type": "stream",
     "text": [
      "reid_one_shot_Mistral7b_nor4k_txt\n"
     ]
    },
    {
     "name": "stderr",
     "output_type": "stream",
     "text": [
      " 60%|█████████████████████████████████████████████▍                              | 5865/9817 [52:07<36:53,  1.79it/s]"
     ]
    }
   ],
   "source": [
    "# for data_type in data_type_ls:\n",
    "#     data_type = 'deid'\n",
    "data_type = 'reid'\n",
    "src_note_dir = src_data_dict[data_type]\n",
    "\n",
    "src_output_dir = os.path.join( src_note_dir, OUTPUT_DIR)\n",
    "src_df_ls = [pd.read_csv(os.path.join(src_output_dir, fn)) for fn in ['valid.csv', 'train.csv', 'test.csv'] if 'ipynb' not in fn]\n",
    "src_df = pd.concat(src_df_ls, ignore_index=True)\n",
    "del src_df_ls\n",
    "src_df['icd9_fn'] = src_df['Three_Character_Labels'] + '_' + src_df['Admission_Id'].astype('str')+ '.txt'\n",
    "\n",
    "for generation_type in generation_ls:\n",
    "    for model in model_ls:\n",
    "        task_name = f'{data_type}_{generation_type}_{model}_nor4k_txt'\n",
    "        print(task_name)\n",
    "        rougue_pickle_fp = os.path.join(result_dir, f'{task_name}.pickle')\n",
    "        \n",
    "        prompt_dir = os.path.join( root, f'src_{data_type}',OUTPUT_DIR)\n",
    "        generation_dir = os.path.join(prompt_dir, generation_type, model, OUTPUT_DIR)\n",
    "        # continue\n",
    "        syn_df_ls = [pd.read_csv(os.path.join(generation_dir, fn)) for fn in ['valid.csv', 'train.csv', 'test.csv'] if 'ipynb' not in fn]\n",
    "        syn_df = pd.concat(syn_df_ls, ignore_index=True)\n",
    "        del syn_df_ls\n",
    "        syn_df['icd9_fn'] = syn_df['Three_Character_Labels'] + '_' + syn_df['Admission_Id'].astype('str')+ '.txt'\n",
    "        # prep for dataframe\n",
    "        df = pd.DataFrame(index=syn_df.icd9_fn.to_list())\n",
    "        rouge_pair_dict = {}\n",
    "        for r_name in rouge_name_ls:\n",
    "            rouge_pair_dict[r_name] = df.copy()\n",
    "        \n",
    "        scorer = rouge_scorer.RougeScorer(rouge_name_ls, use_stemmer=True)\n",
    "        \n",
    "        for i in tqdm(range(syn_df.shape[0])):\n",
    "            syn_normal4k, icd9fn = syn_df.loc[i, ['Text', 'icd9_fn']]\n",
    "            src_normal4k = src_df[src_df.icd9_fn == icd9fn]['Text'].values[0]\n",
    "\n",
    "            scores = scorer.score(src_normal4k, syn_normal4k)\n",
    "            for r_name, scores_obj in scores.items(): # ['rouge1', 'rouge2', 'rouge3', 'rougeL']\n",
    "                for rouge_col in rouge_col_ls:\n",
    "                    rouge_pair_dict[r_name].loc[icd9fn, rouge_col] = eval(f'scores_obj.{rouge_col}')\n",
    "\n",
    "        writePickle(rougue_pickle_fp, rouge_pair_dict)\n",
    "        lineMSG(f'72\\nCheck on similarity {task_name} done!')"
   ]
  },
  {
   "cell_type": "code",
   "execution_count": null,
   "id": "e60c42d0-a134-49c5-b175-54682f9502da",
   "metadata": {},
   "outputs": [],
   "source": []
  },
  {
   "cell_type": "code",
   "execution_count": null,
   "id": "c233a53a-46a7-4474-a68d-58e2ad042236",
   "metadata": {},
   "outputs": [],
   "source": []
  },
  {
   "cell_type": "markdown",
   "id": "bc76362b-82a6-41f3-9da1-e22fd0cc66c1",
   "metadata": {},
   "source": [
    "### Print results"
   ]
  },
  {
   "cell_type": "code",
   "execution_count": 2,
   "id": "c3b6ffe8-8d60-46f5-9750-4cd9468eff1b",
   "metadata": {},
   "outputs": [],
   "source": []
  },
  {
   "cell_type": "code",
   "execution_count": null,
   "id": "953159e2-a716-4c25-8560-ba116e8dd9f6",
   "metadata": {},
   "outputs": [],
   "source": []
  },
  {
   "cell_type": "code",
   "execution_count": 78,
   "id": "c066cdc9-560d-406e-9c9a-a01aece72237",
   "metadata": {},
   "outputs": [],
   "source": [
    "# full_df = full_df.sort_values(['data_type','rouge_type', 'gener_type', 'model'])"
   ]
  },
  {
   "cell_type": "code",
   "execution_count": 79,
   "id": "947c1d7b-4223-4c5a-a936-952f650010b1",
   "metadata": {},
   "outputs": [],
   "source": [
    "# full_df = full_df.transpose()"
   ]
  },
  {
   "cell_type": "code",
   "execution_count": 80,
   "id": "4dcb0a2b-3af4-4805-8a03-11c544364ac4",
   "metadata": {},
   "outputs": [],
   "source": [
    "# full_df.to_csv(r'./util_eval/rouge/full_note.csv', index=False)"
   ]
  },
  {
   "cell_type": "code",
   "execution_count": 5,
   "id": "c11aa50a-44c3-4848-83d7-88652d192faa",
   "metadata": {},
   "outputs": [],
   "source": [
    "def getDf(fls):\n",
    "    collect = []\n",
    "    for pk_fn in fls[:]:\n",
    "        fn = os.path.basename(pk_fn).replace('.pickle', '')\n",
    "        data_type, gener_type, model = getCategory(fn)\n",
    "        rouge_pair_dict = loadPickle(pk_fn)\n",
    "        for k, v in rouge_pair_dict.items():\n",
    "            collect.append([data_type, gener_type, model, k, v.precision.mean(), v.precision.std(), v.recall.mean(), v.recall.std(), v.fmeasure.mean(), v.fmeasure.std()])\n",
    "    df = pd.DataFrame(collect, columns=['data_type', 'gener_type', 'model', 'rouge_type', 'precision', 'p-std', 'recall', 'r-std', 'f1', 'f1-std'])\n",
    "    df.rouge_type = df.rouge_type.str.upper()\n",
    "    df.loc[df.gener_type == 'Normalized Oneshot', 'gener_type'] = 'Normalized One-shot'\n",
    "    df.loc[df.gener_type == 'Oneshot', 'gener_type'] = 'One-shot'\n",
    "    return df"
   ]
  },
  {
   "cell_type": "code",
   "execution_count": 15,
   "id": "803701bd-a9d3-45b7-b82e-0c1ec2402c51",
   "metadata": {},
   "outputs": [
    {
     "name": "stdout",
     "output_type": "stream",
     "text": [
      "18\n"
     ]
    }
   ],
   "source": [
    "result_dir = r'./util_eval/rouge'\n",
    "fls = glob(os.path.join(result_dir, '*.pickle'))\n",
    "fls.sort(reverse=True)\n",
    "print(len(fls))\n",
    "full_df = getDf(fls)\n",
    "\n",
    "\n",
    "result_dir = os.path.join(r'./util_eval/rouge/', NORMAL4K)\n",
    "fls = glob(os.path.join(result_dir, '*.pickle'))\n",
    "fls.sort(reverse=True)\n",
    "len(fls)\n",
    "normal_4k_df = getDf(fls)"
   ]
  },
  {
   "cell_type": "code",
   "execution_count": 16,
   "id": "ddc3ea3e-9879-4c43-ada0-9450b246beb8",
   "metadata": {},
   "outputs": [],
   "source": []
  },
  {
   "cell_type": "code",
   "execution_count": 46,
   "id": "98df5e89-39d8-44b4-b450-7426551723b3",
   "metadata": {},
   "outputs": [],
   "source": [
    "# normal_4k_df"
   ]
  },
  {
   "cell_type": "code",
   "execution_count": 94,
   "id": "9f8f40f8-f70b-4e53-858d-a9afb2ea0095",
   "metadata": {},
   "outputs": [],
   "source": [
    "# target_metrics = 'f1'\n",
    "# target_rouge = 'rouge1'\n",
    "# subdf = df[(df.data_type == 'reid') & (df.rouge_type == target_rouge)]\n",
    "# subdf = subdf[['gener_type', 'model', target_metrics]]"
   ]
  },
  {
   "cell_type": "code",
   "execution_count": 16,
   "id": "fa354422-cc5c-4236-84e3-a8d3e4dd7e56",
   "metadata": {},
   "outputs": [],
   "source": [
    "target_metrics = 'f1'\n",
    "mapping_dict = {\n",
    "    'precision': 'Precision', 'recall': 'Recall', 'f1': 'F1 Score'\n",
    "}\n",
    "target_output_metrics = mapping_dict[target_metrics]\n",
    "def getSubdf(data_type, df):\n",
    "    \n",
    "    subdf = df[(df.data_type ==data_type)]\n",
    "    subdf = subdf[['gener_type', 'model', 'rouge_type', target_metrics]]\n",
    "    subdf = subdf.sort_values(['gener_type', 'rouge_type', 'model'])\n",
    "    return subdf\n",
    "\n",
    "# subdf = getSubdf('reid', full_df)"
   ]
  },
  {
   "cell_type": "code",
   "execution_count": 14,
   "id": "58c7db43-720b-4eaf-b8e4-cd6cc3babea7",
   "metadata": {},
   "outputs": [],
   "source": [
    "# full_df"
   ]
  },
  {
   "cell_type": "code",
   "execution_count": 87,
   "id": "a24c991c-2ffe-4c12-8628-e07f419d0251",
   "metadata": {},
   "outputs": [
    {
     "data": {
      "text/plain": [
       "Text(0.5, 0.98, 'Full Notes (DE-ID): Source vs Synthetic')"
      ]
     },
     "execution_count": 87,
     "metadata": {},
     "output_type": "execute_result"
    },
    {
     "data": {
      "image/png": "[encoded data removed]",
      "text/plain": [
       "<Figure size 2136.88x500 with 4 Axes>"
      ]
     },
     "metadata": {},
     "output_type": "display_data"
    },
    {
     "data": {
      "image/png": "[encoded data removed]",
      "text/plain": [
       "<Figure size 2136.88x500 with 4 Axes>"
      ]
     },
     "metadata": {},
     "output_type": "display_data"
    }
   ],
   "source": [
    "subdf = getSubdf('reid', full_df)\n",
    "sns.set_style(\"darkgrid\")\n",
    "g = sns.catplot(data=subdf, kind=\"bar\", x='gener_type', y=target_metrics, hue='model', col='rouge_type', aspect=1,)\n",
    "g.set_axis_labels(\"\", target_output_metrics)\n",
    "g.set_titles(\"{col_name}\")\n",
    "g.fig.subplots_adjust(top=0.875) \n",
    "g.fig.suptitle('Full Notes (RE-ID): Source vs Synthetic')\n",
    "\n",
    "subdf = getSubdf('deid', full_df)\n",
    "sns.set_style(\"darkgrid\")\n",
    "g = sns.catplot(data=subdf, kind=\"bar\", x='gener_type', y=target_metrics, hue='model', col='rouge_type', aspect=1,)\n",
    "g.set_axis_labels(\"\", target_output_metrics)\n",
    "g.set_titles(\"{col_name}\")\n",
    "g.fig.subplots_adjust(top=0.875) \n",
    "g.fig.suptitle('Full Notes (DE-ID): Source vs Synthetic')\n"
   ]
  },
  {
   "cell_type": "code",
   "execution_count": 57,
   "id": "329dd460-c0ed-4b82-af1b-a089d31af696",
   "metadata": {},
   "outputs": [
    {
     "data": {
      "text/plain": [
       "Text(0.5, 0.98, 'Normalized Notes (De-id): Source vs Synthetic')"
      ]
     },
     "execution_count": 57,
     "metadata": {},
     "output_type": "execute_result"
    },
    {
     "data": {
      "image/png": "[encoded data removed]",
      "text/plain": [
       "<Figure size 2114.38x500 with 4 Axes>"
      ]
     },
     "metadata": {},
     "output_type": "display_data"
    },
    {
     "data": {
      "image/png": "[encoded data removed]",
      "text/plain": [
       "<Figure size 2114.38x500 with 4 Axes>"
      ]
     },
     "metadata": {},
     "output_type": "display_data"
    }
   ],
   "source": [
    "subdf = getSubdf('reid', normal_4k_df)\n",
    "sns.set_style(\"darkgrid\")\n",
    "g = sns.catplot(data=subdf, kind=\"bar\", x='gener_type', y=target_metrics, hue='model', col='rouge_type', aspect=1,)\n",
    "g.set_axis_labels(\"\", target_output_metrics)\n",
    "g.set_titles(\"{col_name}\")\n",
    "g.fig.subplots_adjust(top=0.875) \n",
    "g.fig.suptitle('Normalized Notes (Re-id): Source vs Synthetic')\n",
    "\n",
    "subdf = getSubdf('deid', normal_4k_df)\n",
    "sns.set_style(\"darkgrid\")\n",
    "g = sns.catplot(data=subdf, kind=\"bar\", x='gener_type', y=target_metrics, hue='model', col='rouge_type', aspect=1,)\n",
    "g.set_axis_labels(\"\", target_output_metrics)\n",
    "g.set_titles(\"{col_name}\")\n",
    "g.fig.subplots_adjust(top=0.875) \n",
    "g.fig.suptitle('Normalized Notes (De-id): Source vs Synthetic')\n"
   ]
  },
  {
   "cell_type": "code",
   "execution_count": null,
   "id": "b01bc9d5-bddb-4c66-93c6-15251fffd669",
   "metadata": {},
   "outputs": [],
   "source": []
  },
  {
   "cell_type": "markdown",
   "id": "042cb291-84c8-497e-8c81-4013c4598ac8",
   "metadata": {},
   "source": [
    "## Calculate COS SIM"
   ]
  },
  {
   "cell_type": "code",
   "execution_count": 18,
   "id": "1ceb3c2f-74d8-4c86-af98-4c48208e4ea9",
   "metadata": {},
   "outputs": [],
   "source": [
    "result_dir = r'./util_eval/cos_sim'\n",
    "Path(result_dir).mkdir(parents=True, exist_ok=True)"
   ]
  },
  {
   "cell_type": "code",
   "execution_count": 6,
   "id": "87a55b98-df61-469a-9ede-c34e15eb1fc2",
   "metadata": {
    "scrolled": true
   },
   "outputs": [],
   "source": [
    "# os.system(\"pip install sentence-transformers\")"
   ]
  },
  {
   "cell_type": "code",
   "execution_count": 6,
   "id": "2e9d4881-56f5-43dc-9d17-a6b79b0f1700",
   "metadata": {},
   "outputs": [],
   "source": [
    "from sentence_transformers import SentenceTransformer, util"
   ]
  },
  {
   "cell_type": "code",
   "execution_count": 117,
   "id": "06d14cc6-b35b-4e27-88d1-df2723a1abc1",
   "metadata": {},
   "outputs": [],
   "source": [
    "#     cos_sim = torch.nn.functional.cosine_similarity(embedding_1, embedding_2, dim=1)"
   ]
  },
  {
   "cell_type": "code",
   "execution_count": 7,
   "id": "226c01b0-7f87-431e-8774-f3c8c8f0c5fa",
   "metadata": {},
   "outputs": [],
   "source": [
    "sent_trans_model = SentenceTransformer('sentence-transformers/all-MiniLM-L6-v2', device=device)"
   ]
  },
  {
   "cell_type": "code",
   "execution_count": 8,
   "id": "7f8f3f90-1553-479c-a82d-b2bcaf2926c2",
   "metadata": {},
   "outputs": [],
   "source": [
    "# pip install -U sentence-transformers\n",
    "sentences = [\"I'm not happy\", \"I'm full of happiness\"]\n",
    "def get_similiarity(sent_1, sent_2):\n",
    "    #Compute embedding for both lists\n",
    "    embedding_1= sent_trans_model.encode(sent_1, convert_to_tensor=True).to(device)\n",
    "    embedding_2 = sent_trans_model.encode(sent_2, convert_to_tensor=True).to(device)\n",
    "    \n",
    "    return util.pytorch_cos_sim(embedding_1, embedding_2)\n",
    "    ## tensor([[0.6003]])\n",
    "# val = get_similiarity(*sentences)\n",
    "# print(val, val.item())"
   ]
  },
  {
   "cell_type": "markdown",
   "id": "d945dc5f-e713-48a1-b88d-07663c8308af",
   "metadata": {
    "jp-MarkdownHeadingCollapsed": true
   },
   "source": [
    "### Syn notes vs src notes"
   ]
  },
  {
   "cell_type": "code",
   "execution_count": 13,
   "id": "b43a33d4-ca84-4f5e-8ea7-af1c689d7c51",
   "metadata": {},
   "outputs": [
    {
     "name": "stdout",
     "output_type": "stream",
     "text": [
      "reid_one_shot_gpt-35-turbo-a0301\n"
     ]
    },
    {
     "name": "stderr",
     "output_type": "stream",
     "text": [
      "100%|███████████████████████████████████████| 9804/9804 [05:35<00:00, 29.23it/s]\n"
     ]
    },
    {
     "name": "stdout",
     "output_type": "stream",
     "text": [
      "reid_one_shot_gpt-4-0613\n"
     ]
    },
    {
     "name": "stderr",
     "output_type": "stream",
     "text": [
      "100%|███████████████████████████████████████| 9806/9806 [04:52<00:00, 33.49it/s]\n"
     ]
    },
    {
     "name": "stdout",
     "output_type": "stream",
     "text": [
      "reid_one_shot_Mistral7b\n"
     ]
    },
    {
     "name": "stderr",
     "output_type": "stream",
     "text": [
      "100%|███████████████████████████████████████| 9817/9817 [05:28<00:00, 29.87it/s]\n"
     ]
    },
    {
     "name": "stdout",
     "output_type": "stream",
     "text": [
      "reid_keyword_gpt-35-turbo-a0301\n"
     ]
    },
    {
     "name": "stderr",
     "output_type": "stream",
     "text": [
      "100%|███████████████████████████████████████| 9812/9812 [05:01<00:00, 32.58it/s]\n"
     ]
    },
    {
     "name": "stdout",
     "output_type": "stream",
     "text": [
      "reid_keyword_gpt-4-0613\n"
     ]
    },
    {
     "name": "stderr",
     "output_type": "stream",
     "text": [
      "100%|███████████████████████████████████████| 9810/9810 [05:12<00:00, 31.40it/s]\n"
     ]
    },
    {
     "name": "stdout",
     "output_type": "stream",
     "text": [
      "reid_keyword_Mistral7b\n"
     ]
    },
    {
     "name": "stderr",
     "output_type": "stream",
     "text": [
      "100%|███████████████████████████████████████| 9817/9817 [05:13<00:00, 31.36it/s]\n"
     ]
    },
    {
     "name": "stdout",
     "output_type": "stream",
     "text": [
      "reid_one_shot_src_gpt-35-turbo-a0301\n"
     ]
    },
    {
     "name": "stderr",
     "output_type": "stream",
     "text": [
      "100%|███████████████████████████████████████| 9796/9796 [04:43<00:00, 34.60it/s]\n"
     ]
    },
    {
     "name": "stdout",
     "output_type": "stream",
     "text": [
      "reid_one_shot_src_gpt-4-0613\n"
     ]
    },
    {
     "name": "stderr",
     "output_type": "stream",
     "text": [
      "100%|███████████████████████████████████████| 9815/9815 [05:03<00:00, 32.37it/s]\n"
     ]
    },
    {
     "name": "stdout",
     "output_type": "stream",
     "text": [
      "reid_one_shot_src_Mistral7b\n"
     ]
    },
    {
     "name": "stderr",
     "output_type": "stream",
     "text": [
      "100%|███████████████████████████████████████| 9817/9817 [05:26<00:00, 30.02it/s]\n"
     ]
    }
   ],
   "source": [
    "# for data_type in data_type_ls:\n",
    "# # data_type = 'deid'\n",
    "data_type = 'reid'\n",
    "src_note_dir = src_data_dict[data_type]\n",
    "for generation_type in generation_ls:\n",
    "    for model in model_ls:\n",
    "        task_name = f'{data_type}_{generation_type}_{model}'\n",
    "        print(task_name)\n",
    "        result_pickle_fp = os.path.join(result_dir, f'{task_name}.pickle')\n",
    "        if os.path.exists(result_pickle_fp): continue\n",
    "        \n",
    "        prompt_dir = os.path.join( root, f'src_{data_type}',OUTPUT_DIR)\n",
    "        generation_dir = os.path.join(prompt_dir, generation_type, model)\n",
    "        \n",
    "        syn_fls = [f'{icd9_abbr}_{fn}' for icd9_abbr in icd9obj.ICD9_ABBR_LS for fn in os.listdir(os.path.join(generation_dir, icd9_abbr))]\n",
    "        # prep for dataframe\n",
    "        col_name = 'cos_sim'\n",
    "        df = pd.DataFrame(index=syn_fls, columns=[col_name])\n",
    "\n",
    "        for syn_comb in tqdm(syn_fls):\n",
    "            syn_icd9_abbr,_, syn_fn = syn_comb.split('_')\n",
    "            # read SRC fn\n",
    "            with open(os.path.join(src_note_dir, syn_icd9_abbr, syn_fn), 'r', encoding='utf-8') as fr:\n",
    "                src_corpus = fr.read()\n",
    "            # read SYN fn\n",
    "            with open(os.path.join(generation_dir, syn_icd9_abbr, f'syn_{syn_fn}'), 'r', encoding='utf-8') as fr:\n",
    "                syn_corpus = fr.read()\n",
    "                \n",
    "            df.loc[syn_comb, col_name] = get_similiarity(src_corpus, syn_corpus).item()\n",
    "            \n",
    "        writePickle(result_pickle_fp, df)\n",
    "        lineMSG(f'72\\nCheck on COS SIM {task_name} done!')"
   ]
  },
  {
   "cell_type": "markdown",
   "id": "30e92434-ee8a-4ff0-8292-060944ac443c",
   "metadata": {
    "jp-MarkdownHeadingCollapsed": true
   },
   "source": [
    "### Normalized + 4k: Syn text vs src text"
   ]
  },
  {
   "cell_type": "code",
   "execution_count": null,
   "id": "679f37b2-4b84-4923-95bb-a43d6943ee8f",
   "metadata": {},
   "outputs": [],
   "source": [
    "result_dir = os.path.join(r'./util_eval/cos_sim', NORMAL4K)\n",
    "Path(result_dir).mkdir(parents=True, exist_ok=True)"
   ]
  },
  {
   "cell_type": "code",
   "execution_count": 14,
   "id": "6272fb80-1163-46b3-9d2b-c4cad553bd8c",
   "metadata": {},
   "outputs": [
    {
     "name": "stdout",
     "output_type": "stream",
     "text": [
      "True reid_one_shot_gpt-35-turbo-a0301\n",
      "True reid_one_shot_gpt-4-0613\n",
      "True reid_one_shot_Mistral7b\n",
      "True reid_keyword_gpt-35-turbo-a0301\n",
      "True reid_keyword_gpt-4-0613\n",
      "True reid_keyword_Mistral7b\n",
      "True reid_one_shot_src_gpt-35-turbo-a0301\n",
      "True reid_one_shot_src_gpt-4-0613\n",
      "True reid_one_shot_src_Mistral7b\n"
     ]
    }
   ],
   "source": [
    "prefix_str = 'Write a description of a patient using 2250 words containing the following phrases sequentially:\\n'\n",
    "postfix_str = '.\\n###'\n",
    "OUTPUT_DIR = 'output_csv_4k_n'\n",
    "fls = ['valid.csv', 'train.csv', 'test.csv']\n",
    "\n",
    "for data_type in data_type_ls:\n",
    "# data_type = 'deid'\n",
    "    for generation_type in generation_ls:\n",
    "        for model in model_ls:\n",
    "            task_name = f'{data_type}_{generation_type}_{model}'\n",
    "            prompt_dir = os.path.join( root, f'src_{data_type}',OUTPUT_DIR)\n",
    "            generation_dir = os.path.join(prompt_dir, generation_type, model, OUTPUT_DIR)\n",
    "            # continue\n",
    "            syn_df_ls = [os.path.exists(os.path.join(generation_dir, fn)) for fn in fls if 'ipynb' not in fn]\n",
    "            print( all(syn_df_ls), task_name,)\n"
   ]
  },
  {
   "cell_type": "code",
   "execution_count": null,
   "id": "5e7beb45-b6e5-438f-b785-cd7bef36a339",
   "metadata": {},
   "outputs": [],
   "source": []
  },
  {
   "cell_type": "code",
   "execution_count": 19,
   "id": "ca282e81-8fd1-44aa-b0e4-bfbdb02ca184",
   "metadata": {
    "scrolled": true
   },
   "outputs": [
    {
     "name": "stdout",
     "output_type": "stream",
     "text": [
      "deid_one_shot_gpt-35-turbo-a0301_nor4k_txt\n"
     ]
    },
    {
     "name": "stderr",
     "output_type": "stream",
     "text": [
      "100%|████████████████████████████████████████████████████████████████████████████| 9798/9798 [04:07<00:00, 39.53it/s]\n"
     ]
    },
    {
     "name": "stdout",
     "output_type": "stream",
     "text": [
      "deid_one_shot_gpt-4-0613_nor4k_txt\n"
     ]
    },
    {
     "name": "stderr",
     "output_type": "stream",
     "text": [
      "100%|████████████████████████████████████████████████████████████████████████████| 9809/9809 [03:50<00:00, 42.55it/s]\n"
     ]
    },
    {
     "name": "stdout",
     "output_type": "stream",
     "text": [
      "deid_one_shot_Mistral7b_nor4k_txt\n"
     ]
    },
    {
     "name": "stderr",
     "output_type": "stream",
     "text": [
      "100%|████████████████████████████████████████████████████████████████████████████| 9817/9817 [04:16<00:00, 38.28it/s]\n"
     ]
    },
    {
     "name": "stdout",
     "output_type": "stream",
     "text": [
      "deid_keyword_gpt-35-turbo-a0301_nor4k_txt\n"
     ]
    },
    {
     "name": "stderr",
     "output_type": "stream",
     "text": [
      "100%|████████████████████████████████████████████████████████████████████████████| 9808/9808 [03:38<00:00, 44.92it/s]\n"
     ]
    },
    {
     "name": "stdout",
     "output_type": "stream",
     "text": [
      "deid_keyword_gpt-4-0613_nor4k_txt\n"
     ]
    },
    {
     "name": "stderr",
     "output_type": "stream",
     "text": [
      "100%|████████████████████████████████████████████████████████████████████████████| 9809/9809 [03:25<00:00, 47.82it/s]\n"
     ]
    },
    {
     "name": "stdout",
     "output_type": "stream",
     "text": [
      "deid_keyword_Mistral7b_nor4k_txt\n"
     ]
    },
    {
     "name": "stderr",
     "output_type": "stream",
     "text": [
      "100%|████████████████████████████████████████████████████████████████████████████| 9817/9817 [03:43<00:00, 43.94it/s]\n"
     ]
    },
    {
     "name": "stdout",
     "output_type": "stream",
     "text": [
      "deid_one_shot_src_gpt-35-turbo-a0301_nor4k_txt\n"
     ]
    },
    {
     "name": "stderr",
     "output_type": "stream",
     "text": [
      "100%|████████████████████████████████████████████████████████████████████████████| 9810/9810 [04:02<00:00, 40.52it/s]\n"
     ]
    },
    {
     "name": "stdout",
     "output_type": "stream",
     "text": [
      "deid_one_shot_src_gpt-4-0613_nor4k_txt\n"
     ]
    },
    {
     "name": "stderr",
     "output_type": "stream",
     "text": [
      "100%|████████████████████████████████████████████████████████████████████████████| 9799/9799 [03:20<00:00, 48.87it/s]\n"
     ]
    },
    {
     "name": "stdout",
     "output_type": "stream",
     "text": [
      "deid_one_shot_src_Mistral7b_nor4k_txt\n"
     ]
    },
    {
     "name": "stderr",
     "output_type": "stream",
     "text": [
      "100%|████████████████████████████████████████████████████████████████████████████| 9817/9817 [03:36<00:00, 45.27it/s]\n"
     ]
    }
   ],
   "source": [
    "# for data_type in data_type_ls:\n",
    "# data_type = 'deid'\n",
    "data_type = 'reid'\n",
    "src_note_dir = src_data_dict[data_type]\n",
    "\n",
    "src_output_dir = os.path.join( src_note_dir, OUTPUT_DIR)\n",
    "src_df_ls = [pd.read_csv(os.path.join(src_output_dir, fn)) for fn in ['valid.csv', 'train.csv', 'test.csv'] if 'ipynb' not in fn]\n",
    "src_df = pd.concat(src_df_ls, ignore_index=True)\n",
    "del src_df_ls\n",
    "src_df['icd9_fn'] = src_df['Three_Character_Labels'] + '_' + src_df['Admission_Id'].astype('str')+ '.txt'\n",
    "\n",
    "for generation_type in generation_ls:\n",
    "    for model in model_ls:\n",
    "        task_name = f'{data_type}_{generation_type}_{model}'\n",
    "        print(task_name)\n",
    "        result_pickle_fp = os.path.join(result_dir, f'{task_name}.pickle')\n",
    "        prompt_dir = os.path.join( root, f'src_{data_type}',OUTPUT_DIR)\n",
    "        generation_dir = os.path.join(prompt_dir, generation_type, model, OUTPUT_DIR)\n",
    "        # continue\n",
    "        syn_df_ls = [pd.read_csv(os.path.join(generation_dir, fn)) for fn in ['valid.csv', 'train.csv', 'test.csv'] if 'ipynb' not in fn]\n",
    "        syn_df = pd.concat(syn_df_ls, ignore_index=True)\n",
    "        del syn_df_ls\n",
    "        syn_df['icd9_fn'] = syn_df['Three_Character_Labels'] + '_' + syn_df['Admission_Id'].astype('str')+ '.txt'\n",
    "        # prep for dataframe\n",
    "        col_name = 'cos_sim'\n",
    "        df = pd.DataFrame(index=syn_df.icd9_fn.to_list(), columns=[col_name])\n",
    "        \n",
    "        for i in tqdm(range(syn_df.shape[0])):\n",
    "            syn_normal4k, icd9fn = syn_df.loc[i, ['Text', 'icd9_fn']]\n",
    "            src_normal4k = src_df[src_df.icd9_fn == icd9fn]['Text'].values[0]\n",
    "            df.loc[icd9fn, col_name] = get_similiarity(src_normal4k, syn_normal4k).item()\n",
    "\n",
    "        writePickle(result_pickle_fp, df)\n",
    "        lineMSG(f'72\\nCheck on COS 4k {task_name} done!')"
   ]
  },
  {
   "cell_type": "markdown",
   "id": "41bcb891-677d-4c23-becc-a1abe9fa2709",
   "metadata": {},
   "source": [
    "### Print "
   ]
  },
  {
   "cell_type": "code",
   "execution_count": 19,
   "id": "ec9c0082-b3dc-4197-aa72-dd5950ed2629",
   "metadata": {},
   "outputs": [
    {
     "data": {
      "text/plain": [
       "18"
      ]
     },
     "execution_count": 19,
     "metadata": {},
     "output_type": "execute_result"
    }
   ],
   "source": [
    "result_dir = r'./util_eval/cos_sim'; data_source_title = 'Full Notes: Source vs Synthetic'\n",
    "# result_dir = os.path.join(r'./util_eval/cos_sim/normal4k/'); data_source_title = 'Source vs Synthetic [Normalized + 4K]'\n",
    "fls = [fp for fp in glob(os.path.join(result_dir, '*.pickle')) ]\n",
    "fls.sort(reverse=True)\n",
    "len(fls)"
   ]
  },
  {
   "cell_type": "code",
   "execution_count": 20,
   "id": "287f1a83-94ca-4654-bd84-762399da52d4",
   "metadata": {},
   "outputs": [],
   "source": [
    "collect = []\n",
    "for pk_fn in fls[:]:\n",
    "    fn = os.path.basename(pk_fn).replace('.pickle', '')\n",
    "    data_type, gener_type, model = getCategory(fn)\n",
    "    df = loadPickle(pk_fn)\n",
    "    collect.append([data_type, gener_type, model, df.cos_sim.mean(), df.cos_sim.std()])\n",
    "\n",
    "df = pd.DataFrame(collect, columns=['data_type', 'gener_type', 'model', 'cos_sim', 'std'])\n",
    "df = df.sort_values(['data_type', 'gener_type', 'model'])\n",
    "df.loc[df.gener_type == 'Normalized Oneshot', 'gener_type'] = 'Normalized One-shot'\n",
    "df.loc[df.gener_type == 'Oneshot', 'gener_type'] = 'One-shot'"
   ]
  },
  {
   "cell_type": "markdown",
   "id": "d29b00cb-2493-4c99-9d22-e5a9c7419d5c",
   "metadata": {
    "jp-MarkdownHeadingCollapsed": true
   },
   "source": [
    "#### Single"
   ]
  },
  {
   "cell_type": "code",
   "execution_count": 156,
   "id": "4c09d762-4a41-4e7f-be87-c1e30a3341d1",
   "metadata": {
    "scrolled": true
   },
   "outputs": [],
   "source": [
    "data_type = 'reid'\n",
    "df_part = df[df.data_type==data_type]"
   ]
  },
  {
   "cell_type": "code",
   "execution_count": 158,
   "id": "441c6521-8b01-4979-af15-2e3ff952f93f",
   "metadata": {},
   "outputs": [
    {
     "data": {
      "image/png": "[encoded data removed]",
      "text/plain": [
       "<Figure size 640x480 with 1 Axes>"
      ]
     },
     "metadata": {},
     "output_type": "display_data"
    }
   ],
   "source": [
    "gener_type_ls = df_part.gener_type.unique()\n",
    "model_dict = { model: [] for model in df_part.model.unique()}\n",
    "\n",
    "\n",
    "for model in model_dict.keys():\n",
    "    for gener_type in gener_type_ls:\n",
    "        cos_val = df_part[(df_part['gener_type'] == gener_type) & \n",
    "                          (df_part['model'] == model)]['cos_sim'].to_list()[0]\n",
    "        model_dict[model].append(round(cos_val,3))\n",
    "\n",
    "# model_dict = {'GPT-35': [0.6896616838283189, 0.5586441195258074, 0.8145063939208513],\n",
    "#  'GPT-4': [0.706329150065005, 0.7202161771052975, 0.7814678316766842],\n",
    "#  'Mistral7b': [0.6564194224566127, 0.796991274040088, 0.8075084873374858]}\n",
    "\n",
    "x = np.arange(len(gener_type_ls))  # the label locations\n",
    "width = 0.20  # the width of the bars\n",
    "multiplier = 0\n",
    "\n",
    "fig, ax = plt.subplots(layout='constrained')\n",
    "\n",
    "for attribute, measurement in model_dict.items():\n",
    "    offset = width * multiplier\n",
    "    rects = ax.bar(x + offset, measurement, width, label=attribute)\n",
    "    ax.bar_label(rects, padding=3)\n",
    "    multiplier += 1\n",
    "\n",
    "# Add some text for labels, title and custom x-axis tick labels, etc.\n",
    "# ax.set_ylabel('Cosine similarity')\n",
    "ax.set_title(f'Cosine similarity - {data_source_title} ({data_type.upper()})')\n",
    "ax.set_xticks(x + width, gener_type_ls)\n",
    "ax.legend(loc='upper left', ncols=3)\n",
    "ax.set_ylim(0.5, 1)\n",
    "ax.grid(axis='y')\n",
    "plt.show()"
   ]
  },
  {
   "cell_type": "markdown",
   "id": "1e97e3a0-e721-4a66-92b3-4ecd495e9b38",
   "metadata": {},
   "source": [
    "#### Combine"
   ]
  },
  {
   "cell_type": "code",
   "execution_count": 25,
   "id": "4cbfb39d-3465-4181-bed8-5a65f3b10c9c",
   "metadata": {},
   "outputs": [
    {
     "name": "stdout",
     "output_type": "stream",
     "text": [
      "RE-ID {'GPT-35': [0.69, 0.559, 0.815], 'GPT-4': [0.706, 0.72, 0.781], 'Mistral7b': [0.656, 0.797, 0.808]}\n",
      "DE-ID {'GPT-35': [0.673, 0.545, 0.775], 'GPT-4': [0.698, 0.743, 0.78], 'Mistral7b': [0.65, 0.799, 0.786]}\n"
     ]
    },
    {
     "data": {
      "image/png": "[encoded data removed]",
      "text/plain": [
       "<Figure size 1400x500 with 2 Axes>"
      ]
     },
     "metadata": {},
     "output_type": "display_data"
    }
   ],
   "source": [
    "data_type_ls = ['reid', 'deid']\n",
    "# Desired dimensions in pixels\n",
    "width_in_pixels = 14000\n",
    "height_in_pixels = 5000\n",
    "dpi_val = 1000\n",
    "\n",
    "# Calculate the figure size in inches\n",
    "width_in_inches = width_in_pixels / dpi_val\n",
    "height_in_inches = height_in_pixels / dpi_val\n",
    "\n",
    "fig, axs = plt.subplots(1, 2, figsize=(width_in_inches, height_in_inches))#, layout='constrained')\n",
    "plt.rcParams['font.size'] = 13\n",
    "for idx in range(2):\n",
    "    data_type = data_type_ls[idx]\n",
    "    df_part = df[df.data_type==data_type]\n",
    "    if data_type.casefold() == 'reid': \n",
    "        data_type = 'RE-ID'\n",
    "    else: \n",
    "        data_type = 'DE-ID'\n",
    "    \n",
    "    gener_type_ls = df_part.gener_type.unique()\n",
    "    model_dict = { model: [] for model in df_part.model.unique()}\n",
    "    \n",
    "    for model in model_dict.keys():\n",
    "        for gener_type in gener_type_ls:\n",
    "            cos_val = df_part[(df_part['gener_type'] == gener_type) & \n",
    "                              (df_part['model'] == model)]['cos_sim'].to_list()[0]\n",
    "            model_dict[model].append(round(cos_val,3))\n",
    "    print(data_type, model_dict)\n",
    "    x = np.arange(len(gener_type_ls))  # the label locations\n",
    "    width = 0.15  # the width of the bars\n",
    "    distance = 0.02\n",
    "    ax = axs[idx]\n",
    "    ax.set_facecolor('#EAEAF2')\n",
    "    multiplier = 0\n",
    "    for attribute, measurement in model_dict.items():\n",
    "        offset = (width + distance) * multiplier\n",
    "        rects = ax.bar(x + offset, measurement, width, label=attribute)\n",
    "        ax.bar_label(rects, padding=3, fmt='%.2f')\n",
    "        multiplier += 1\n",
    "        \n",
    "        ax.set_title(data_type)\n",
    "        ax.set_xticks(x + width, gener_type_ls)\n",
    "        ax.legend(loc='upper left', ncols=3)\n",
    "        ax.set_ylim(0, 1)\n",
    "        ax.grid(color='w', axis='y')\n",
    "plt.suptitle(f'Cosine similarity - {data_source_title}')\n",
    "plt.tight_layout()\n",
    "\n",
    "plt.savefig('cos_sim.tif', format='tif', dpi=500)\n",
    "plt.show()"
   ]
  },
  {
   "cell_type": "code",
   "execution_count": 73,
   "id": "3099311e-fa93-43ca-bf7a-7e0a114b3c55",
   "metadata": {},
   "outputs": [
    {
     "data": {
      "image/png": "[encoded data removed]",
      "text/plain": [
       "<Figure size 1400x500 with 2 Axes>"
      ]
     },
     "metadata": {},
     "output_type": "display_data"
    }
   ],
   "source": [
    "# Adjusting the code to add labels on each bar\n",
    "fig, (ax1, ax2) = plt.subplots(1, 2, figsize=(14, 5))\n",
    "\n",
    "# Small distance between bars\n",
    "bar_width = 0.2\n",
    "distance = 0.05\n",
    "index = range(len(categories))\n",
    "\n",
    "# Plotting the first dataset with a small distance between bars and adding bar labels\n",
    "for i, (key, values) in enumerate(data1.items()):\n",
    "    bars = ax1.bar([x + (bar_width + distance) * i for x in index], values, bar_width, label=key)\n",
    "    for bar in bars:\n",
    "        yval = bar.get_height()\n",
    "        ax1.text(bar.get_x() + bar.get_width() / 2, yval, f'{yval:.3f}', ha='center', va='bottom')\n",
    "ax1.set_xlabel('Categories')\n",
    "ax1.set_title('Comparison of Models (Dataset 1)')\n",
    "ax1.set_xticks([x + (bar_width + distance) * (len(data1) - 1) / 2 for x in index])\n",
    "ax1.set_xticklabels(categories)\n",
    "ax1.legend()\n",
    "\n",
    "# Plotting the second dataset with a small distance between bars and adding bar labels\n",
    "for i, (key, values) in enumerate(data2.items()):\n",
    "    bars = ax2.bar([x + (bar_width + distance) * i for x in index], values, bar_width, label=key)\n",
    "    for bar in bars:\n",
    "        yval = bar.get_height()\n",
    "        ax2.text(bar.get_x() + bar.get_width() / 2, yval, f'{yval:.3f}', ha='center', va='bottom')\n",
    "ax2.set_xlabel('Categories')\n",
    "ax2.set_title('Comparison of Models (Dataset 2)')\n",
    "ax2.set_xticks([x + (bar_width + distance) * (len(data2) - 1) / 2 for x in index])\n",
    "ax2.set_xticklabels(categories)\n",
    "ax2.legend()\n",
    "\n",
    "plt.tight_layout()\n",
    "plt.show()\n"
   ]
  },
  {
   "cell_type": "code",
   "execution_count": null,
   "id": "2e6c60e6-d3f6-4f49-a88e-b95c8997ee1c",
   "metadata": {},
   "outputs": [],
   "source": []
  },
  {
   "cell_type": "code",
   "execution_count": 8,
   "id": "f9798bb6-14ef-47b7-b959-6f326c108a91",
   "metadata": {},
   "outputs": [],
   "source": [
    "# data from https://allisonhorst.github.io/palmerpenguins/\n",
    "\n",
    "import matplotlib.pyplot as plt\n",
    "import numpy as np\n"
   ]
  },
  {
   "cell_type": "code",
   "execution_count": null,
   "id": "fe3b6956-3004-4505-8585-ff1b331c2f1e",
   "metadata": {},
   "outputs": [],
   "source": []
  },
  {
   "cell_type": "markdown",
   "id": "9eb9afae-91df-4736-bd5e-c3aee410402e",
   "metadata": {
    "jp-MarkdownHeadingCollapsed": true,
    "scrolled": true
   },
   "source": [
    "# BERT-Score"
   ]
  },
  {
   "cell_type": "code",
   "execution_count": 4,
   "id": "7a261d03-8adb-4895-b8ce-7af2084a698a",
   "metadata": {},
   "outputs": [],
   "source": [
    "from evaluate import load\n",
    "bertscore = load(\"bertscore\")"
   ]
  },
  {
   "cell_type": "code",
   "execution_count": 5,
   "id": "3a59fe8b-ba72-4539-9d4b-b4f23bb7bcea",
   "metadata": {},
   "outputs": [
    {
     "data": {
      "text/plain": [
       "[1, 5365, 447, 2]"
      ]
     },
     "execution_count": 5,
     "metadata": {},
     "output_type": "execute_result"
    }
   ],
   "source": [
    "from transformers import DebertaV2Tokenizer\n",
    "token_model = \"microsoft/deberta-v3-base\"\n",
    "\n",
    "tokenizer = DebertaV2Tokenizer.from_pretrained(token_model)\n",
    "tokenizer(\"Hello world\")[\"input_ids\"]"
   ]
  },
  {
   "cell_type": "code",
   "execution_count": 6,
   "id": "7bded8a2-7d2b-4ee9-a338-8303bfbb7bc9",
   "metadata": {},
   "outputs": [],
   "source": [
    "def getCorrectLen(text):\n",
    "    input_id = tokenizer(text)['input_ids']\n",
    "    if(len(input_id) > 4000): #1500\n",
    "        input_id=input_id[:4000] #1500\n",
    "        text = tokenizer.decode(input_id)\n",
    "    return text"
   ]
  },
  {
   "cell_type": "code",
   "execution_count": 24,
   "id": "7f71252a-c8bf-4f82-8218-7121b4a8d056",
   "metadata": {},
   "outputs": [],
   "source": [
    "\n",
    "# predictions = [\"hello world\", \"general kenobi\"]\n",
    "# references = [\"goodnight moon\", \"the sun is shining\"]\n",
    "# results = bertscore.compute(predictions=predictions, references=references, num_layers=9, model_type=\"microsoft/deberta-v3-base\")\n",
    "# print(results)"
   ]
  },
  {
   "cell_type": "markdown",
   "id": "1e8cfe46-c9b2-450e-9b38-050f0def70c3",
   "metadata": {
    "jp-MarkdownHeadingCollapsed": true
   },
   "source": [
    "### Syn notes vs src notes"
   ]
  },
  {
   "cell_type": "code",
   "execution_count": 7,
   "id": "b742d901-ee9c-4c65-ae5a-87193f7ab137",
   "metadata": {},
   "outputs": [],
   "source": [
    "result_dir = r'./util_eval/bert_score'\n",
    "Path(result_dir).mkdir(parents=True, exist_ok=True)\n",
    "\n",
    "col_ls = ['precision', 'recall', 'f1']\n",
    "prefix_str = 'Write a description of a patient using 2250 words containing the following phrases sequentially:\\n'\n",
    "postfix_str = '.\\n###'"
   ]
  },
  {
   "cell_type": "code",
   "execution_count": null,
   "id": "7d11c1a7-7034-4322-8fd6-eca1ef68fd93",
   "metadata": {
    "scrolled": true
   },
   "outputs": [
    {
     "name": "stdout",
     "output_type": "stream",
     "text": [
      "reid_one_shot_gpt-35-turbo-a0301\n"
     ]
    },
    {
     "name": "stderr",
     "output_type": "stream",
     "text": [
      "  1%|▍                                                                             | 58/9804 [00:17<43:56,  3.70it/s]"
     ]
    }
   ],
   "source": [
    "# for data_type in data_type_ls:\n",
    "# data_type = 'deid'\n",
    "data_type = 'reid'\n",
    "src_note_dir = src_data_dict[data_type]\n",
    "for generation_type in generation_ls:\n",
    "    for model in model_ls:\n",
    "        task_name = f'{data_type}_{generation_type}_{model}'\n",
    "        print(task_name)\n",
    "        output_pickle_fp = os.path.join(result_dir, f'{task_name}.pickle')\n",
    "        \n",
    "        prompt_dir = os.path.join( root, f'src_{data_type}',OUTPUT_DIR)\n",
    "        generation_dir = os.path.join(prompt_dir, generation_type, model)\n",
    "        syn_fls = [f'{icd9_abbr}_{fn}' for icd9_abbr in icd9obj.ICD9_ABBR_LS for fn in os.listdir(os.path.join(generation_dir, icd9_abbr))]\n",
    "        # prep for dataframe\n",
    "        df = pd.DataFrame(index=syn_fls)\n",
    "        \n",
    "        for syn_comb in tqdm(syn_fls):\n",
    "            syn_icd9_abbr,_, syn_fn = syn_comb.split('_')\n",
    "            # read SRC fn\n",
    "            with open(os.path.join(src_note_dir, syn_icd9_abbr, syn_fn), 'r', encoding='utf-8') as fr:\n",
    "                src_corpus = getCorrectLen(fr.read())\n",
    "\n",
    "            # read SYN fn\n",
    "            with open(os.path.join(generation_dir, syn_icd9_abbr, f'syn_{syn_fn}'), 'r', encoding='utf-8') as fr:\n",
    "                syn_corpus = getCorrectLen(fr.read())\n",
    "\n",
    "            results = bertscore.compute(predictions=[syn_corpus], references=[src_corpus], batch_size=1,\n",
    "                                        num_layers=9, model_type=\"microsoft/deberta-v3-base\")\n",
    "            for col in col_ls:\n",
    "                df.loc[syn_comb, col] = results[col][0]\n",
    "\n",
    "        writePickle(output_pickle_fp, df)\n",
    "        lineMSG(f'72\\nCheck on similarity {task_name} done!')"
   ]
  },
  {
   "cell_type": "markdown",
   "id": "b91c6916-820a-4605-9c3f-487741ad8663",
   "metadata": {
    "jp-MarkdownHeadingCollapsed": true
   },
   "source": [
    "### Normalized + 4k: Syn text vs src text"
   ]
  },
  {
   "cell_type": "code",
   "execution_count": 10,
   "id": "db153b35-f816-43e2-8871-147b84fa0438",
   "metadata": {},
   "outputs": [],
   "source": [
    "result_dir = os.path.join(r'./util_eval/bert_score', NORMAL4K)\n",
    "Path(result_dir).mkdir(parents=True, exist_ok=True)\n",
    "\n",
    "col_ls = ['precision', 'recall', 'f1']\n",
    "prefix_str = 'Write a description of a patient using 2250 words containing the following phrases sequentially:\\n'\n",
    "postfix_str = '.\\n###'"
   ]
  },
  {
   "cell_type": "code",
   "execution_count": null,
   "id": "bfec79a9-6714-4a39-916d-d8c6a94fd3c7",
   "metadata": {},
   "outputs": [
    {
     "name": "stdout",
     "output_type": "stream",
     "text": [
      "reid_one_shot_gpt-35-turbo-a0301\n"
     ]
    },
    {
     "name": "stderr",
     "output_type": "stream",
     "text": [
      "  3%|██                                                                           | 259/9802 [00:44<20:46,  7.65it/s]"
     ]
    }
   ],
   "source": [
    "# for data_type in data_type_ls:\n",
    "#     data_type = 'deid'\n",
    "data_type = 'reid'\n",
    "src_note_dir = src_data_dict[data_type]\n",
    "\n",
    "src_output_dir = os.path.join( src_note_dir, OUTPUT_DIR)\n",
    "src_df_ls = [pd.read_csv(os.path.join(src_output_dir, fn)) for fn in ['valid.csv', 'train.csv', 'test.csv'] if 'ipynb' not in fn]\n",
    "src_df = pd.concat(src_df_ls, ignore_index=True)\n",
    "del src_df_ls\n",
    "src_df['icd9_fn'] = src_df['Three_Character_Labels'] + '_' + src_df['Admission_Id'].astype('str')+ '.txt'\n",
    "\n",
    "for generation_type in generation_ls:\n",
    "    for model in model_ls:\n",
    "        task_name = f'{data_type}_{generation_type}_{model}'\n",
    "        print(task_name)\n",
    "        output_pickle_fp = os.path.join(result_dir, f'{task_name}.pickle')\n",
    "        \n",
    "        prompt_dir = os.path.join( root, f'src_{data_type}',OUTPUT_DIR)\n",
    "        generation_dir = os.path.join(prompt_dir, generation_type, model, OUTPUT_DIR)\n",
    "        # continue\n",
    "        syn_df_ls = [pd.read_csv(os.path.join(generation_dir, fn)) for fn in ['valid.csv', 'train.csv', 'test.csv'] if 'ipynb' not in fn]\n",
    "        syn_df = pd.concat(syn_df_ls, ignore_index=True)\n",
    "        del syn_df_ls\n",
    "        syn_df['icd9_fn'] = syn_df['Three_Character_Labels'] + '_' + syn_df['Admission_Id'].astype('str')+ '.txt'\n",
    "        # prep for dataframe\n",
    "        df = pd.DataFrame(index=syn_df.icd9_fn.to_list())\n",
    "\n",
    "        for i in tqdm(range(syn_df.shape[0])):\n",
    "            syn_normal4k, icd9fn = syn_df.loc[i, ['Text', 'icd9_fn']]\n",
    "            src_normal4k = src_df[src_df.icd9_fn == icd9fn]['Text'].values[0]\n",
    "            syn_normal4k = getCorrectLen(syn_normal4k)\n",
    "            src_normal4k = getCorrectLen(src_normal4k)\n",
    "            \n",
    "            results = bertscore.compute(predictions=[syn_normal4k], references=[src_normal4k], batch_size=1,\n",
    "                                        num_layers=9, model_type=\"microsoft/deberta-v3-base\")\n",
    "            for col in col_ls:\n",
    "                df.loc[icd9fn, col] = results[col][0]\n",
    "            \n",
    "        writePickle(output_pickle_fp, df)\n",
    "        lineMSG(f'72\\nCheck on similarity {task_name} done!')"
   ]
  },
  {
   "cell_type": "code",
   "execution_count": 14,
   "id": "657e2f56-cb69-4217-8283-b745c744c62f",
   "metadata": {},
   "outputs": [],
   "source": [
    "# writePickle(output_pickle_fp, df)"
   ]
  },
  {
   "cell_type": "code",
   "execution_count": null,
   "id": "fdce5a2f-bfa5-4418-817d-f42a5b613832",
   "metadata": {},
   "outputs": [],
   "source": [
    "# Print Result"
   ]
  },
  {
   "cell_type": "code",
   "execution_count": 61,
   "id": "faa09cac-dedb-4cee-b6f7-7d3e3abde001",
   "metadata": {},
   "outputs": [
    {
     "data": {
      "text/plain": [
       "['./util_eval/bert_score/reid_one_shot_src_gpt-4-0613.pickle',\n",
       " './util_eval/bert_score/reid_one_shot_src_gpt-35-turbo-a0301.pickle',\n",
       " './util_eval/bert_score/reid_one_shot_src_Mistral7b.pickle',\n",
       " './util_eval/bert_score/reid_one_shot_gpt-4-0613.pickle',\n",
       " './util_eval/bert_score/reid_one_shot_gpt-35-turbo-a0301.pickle',\n",
       " './util_eval/bert_score/reid_one_shot_Mistral7b.pickle',\n",
       " './util_eval/bert_score/reid_keyword_gpt-4-0613.pickle',\n",
       " './util_eval/bert_score/reid_keyword_gpt-35-turbo-a0301.pickle',\n",
       " './util_eval/bert_score/reid_keyword_Mistral7b.pickle',\n",
       " './util_eval/bert_score/deid_one_shot_src_gpt-4-0613.pickle',\n",
       " './util_eval/bert_score/deid_one_shot_src_gpt-35-turbo-a0301.pickle',\n",
       " './util_eval/bert_score/deid_one_shot_src_Mistral7b.pickle',\n",
       " './util_eval/bert_score/deid_one_shot_gpt-4-0613.pickle',\n",
       " './util_eval/bert_score/deid_one_shot_gpt-35-turbo-a0301.pickle',\n",
       " './util_eval/bert_score/deid_one_shot_Mistral7b.pickle',\n",
       " './util_eval/bert_score/deid_keyword_gpt-4-0613.pickle',\n",
       " './util_eval/bert_score/deid_keyword_gpt-35-turbo-a0301.pickle',\n",
       " './util_eval/bert_score/deid_keyword_Mistral7b.pickle']"
      ]
     },
     "execution_count": 61,
     "metadata": {},
     "output_type": "execute_result"
    }
   ],
   "source": [
    "result_dir = r'./util_eval/bert_score'\n",
    "# result_dir = os.path.join(r'./util_eval/rouge/', NORMAL4K)\n",
    "fls = glob(os.path.join(result_dir, '*.pickle'))\n",
    "fls.sort(reverse=True)\n",
    "fls"
   ]
  },
  {
   "cell_type": "code",
   "execution_count": 71,
   "id": "3b6643b2-6d3d-48e1-9021-048df03ba1e3",
   "metadata": {},
   "outputs": [],
   "source": [
    "collect = []\n",
    "for pk_fn in fls[:]:\n",
    "    fn = os.path.basename(pk_fn).replace('.pickle', '')\n",
    "    data_type, gener_type, model = getCategory(fn)\n",
    "    df = loadPickle(pk_fn)\n",
    "    collect.append([data_type, gener_type, model, df.precision.mean(), df.precision.std(), df.recall.mean(), df.recall.std(), df.f1.mean(), df.f1.std()])\n",
    "df = pd.DataFrame(collect, columns=['data_type', 'gener_type', 'model', 'precision', 'p-std', 'recall', 'r-std', 'f1', 'f1-std'])"
   ]
  },
  {
   "cell_type": "code",
   "execution_count": 76,
   "id": "fdc0e6ff-7b6f-41e5-b5c0-67c7165793ff",
   "metadata": {},
   "outputs": [],
   "source": [
    "df = df.sort_values(['data_type', 'gener_type', 'model'])\n",
    "# df"
   ]
  },
  {
   "cell_type": "code",
   "execution_count": 73,
   "id": "8bfc8a5c-299a-4994-b0c7-bdfecde06f75",
   "metadata": {},
   "outputs": [],
   "source": [
    "df.to_csv(os.path.join(result_dir, 'bert_score_df.csv'), index=False)"
   ]
  },
  {
   "cell_type": "code",
   "execution_count": 74,
   "id": "205495cb-7d13-42cb-8948-ad34f1d37f66",
   "metadata": {},
   "outputs": [
    {
     "data": {
      "text/plain": [
       "['./util_eval/bert_score/normal4k/reid_one_shot_src_gpt-4-0613.pickle',\n",
       " './util_eval/bert_score/normal4k/reid_one_shot_src_gpt-35-turbo-a0301.pickle',\n",
       " './util_eval/bert_score/normal4k/reid_one_shot_src_Mistral7b.pickle',\n",
       " './util_eval/bert_score/normal4k/reid_one_shot_gpt-4-0613.pickle',\n",
       " './util_eval/bert_score/normal4k/reid_one_shot_gpt-35-turbo-a0301.pickle',\n",
       " './util_eval/bert_score/normal4k/reid_one_shot_Mistral7b.pickle',\n",
       " './util_eval/bert_score/normal4k/reid_keyword_gpt-4-0613.pickle',\n",
       " './util_eval/bert_score/normal4k/reid_keyword_gpt-35-turbo-a0301.pickle',\n",
       " './util_eval/bert_score/normal4k/reid_keyword_Mistral7b.pickle',\n",
       " './util_eval/bert_score/normal4k/deid_one_shot_src_gpt-4-0613.pickle',\n",
       " './util_eval/bert_score/normal4k/deid_one_shot_src_gpt-35-turbo-a0301.pickle',\n",
       " './util_eval/bert_score/normal4k/deid_one_shot_src_Mistral7b.pickle',\n",
       " './util_eval/bert_score/normal4k/deid_one_shot_gpt-4-0613.pickle',\n",
       " './util_eval/bert_score/normal4k/deid_one_shot_gpt-35-turbo-a0301.pickle',\n",
       " './util_eval/bert_score/normal4k/deid_one_shot_Mistral7b.pickle',\n",
       " './util_eval/bert_score/normal4k/deid_keyword_gpt-4-0613.pickle',\n",
       " './util_eval/bert_score/normal4k/deid_keyword_gpt-35-turbo-a0301.pickle',\n",
       " './util_eval/bert_score/normal4k/deid_keyword_Mistral7b.pickle']"
      ]
     },
     "execution_count": 74,
     "metadata": {},
     "output_type": "execute_result"
    }
   ],
   "source": [
    "result_dir = os.path.join(r'./util_eval/bert_score', NORMAL4K)\n",
    "fls = glob(os.path.join(result_dir, '*.pickle'))\n",
    "fls.sort(reverse=True)\n",
    "fls"
   ]
  },
  {
   "cell_type": "code",
   "execution_count": 78,
   "id": "cc41c01d-effb-44df-be82-947845f98ffb",
   "metadata": {},
   "outputs": [],
   "source": [
    "collect = []\n",
    "for pk_fn in fls[:]:\n",
    "    fn = os.path.basename(pk_fn).replace('.pickle', '')\n",
    "    data_type, gener_type, model = getCategory(fn)\n",
    "    df = loadPickle(pk_fn)\n",
    "    collect.append([data_type, gener_type, model, df.precision.mean(), df.precision.std(), df.recall.mean(), df.recall.std(), df.f1.mean(), df.f1.std()])\n",
    "df = pd.DataFrame(collect, columns=['data_type', 'gener_type', 'model', 'precision', 'p-std', 'recall', 'r-std', 'f1', 'f1-std'])"
   ]
  },
  {
   "cell_type": "code",
   "execution_count": 79,
   "id": "8b5e2d3b-7090-4fa9-8444-a828301a2559",
   "metadata": {},
   "outputs": [],
   "source": [
    "df = df.sort_values(['data_type', 'gener_type', 'model'])\n",
    "# df"
   ]
  },
  {
   "cell_type": "code",
   "execution_count": 80,
   "id": "4115ef08-53bd-4429-ac5d-3018071d2bf7",
   "metadata": {},
   "outputs": [],
   "source": [
    "df.to_csv(os.path.join(result_dir, 'bert_score_normal4k_df.csv'), index=False)"
   ]
  },
  {
   "cell_type": "markdown",
   "id": "8fd4af49-2031-4cdd-81d3-59807edaafa5",
   "metadata": {
    "jp-MarkdownHeadingCollapsed": true
   },
   "source": [
    "# BLEU"
   ]
  },
  {
   "cell_type": "code",
   "execution_count": 7,
   "id": "60d564b9-f516-43b4-97d0-dbc1136c9096",
   "metadata": {},
   "outputs": [],
   "source": [
    "from nltk.translate import bleu"
   ]
  },
  {
   "cell_type": "code",
   "execution_count": 34,
   "id": "01e4df99-19a3-4b78-82a8-8c1099d30dc5",
   "metadata": {},
   "outputs": [
    {
     "data": {
      "text/plain": [
       "0.7248034310221587"
      ]
     },
     "execution_count": 34,
     "metadata": {},
     "output_type": "execute_result"
    }
   ],
   "source": [
    "result = bleu([syn_normal4k.split()],\n",
    "              src_normal4k.split(),\n",
    "             (1,),\n",
    "             )\n",
    "result"
   ]
  },
  {
   "cell_type": "markdown",
   "id": "5f23af01-288c-43d3-94e2-c3f78e191a53",
   "metadata": {},
   "source": [
    "## Normalized + 4k: Syn text vs src text"
   ]
  },
  {
   "cell_type": "code",
   "execution_count": 8,
   "id": "fb075509-de49-4d9b-b465-979b972f399a",
   "metadata": {},
   "outputs": [],
   "source": [
    "result_dir = os.path.join( r'./util_eval/bleu', NORMAL4K)\n",
    "Path(result_dir).mkdir(parents=True, exist_ok=True)"
   ]
  },
  {
   "cell_type": "code",
   "execution_count": 11,
   "id": "43265e98-1027-43d9-b04a-25269428060e",
   "metadata": {},
   "outputs": [
    {
     "name": "stdout",
     "output_type": "stream",
     "text": [
      "reid_one_shot_gpt-35-turbo-a0301\n"
     ]
    },
    {
     "name": "stderr",
     "output_type": "stream",
     "text": [
      "100%|███████████████████████████████████████████████████████████████████████████| 9802/9802 [00:19<00:00, 510.60it/s]\n"
     ]
    },
    {
     "name": "stdout",
     "output_type": "stream",
     "text": [
      "reid_one_shot_gpt-4-0613\n"
     ]
    },
    {
     "name": "stderr",
     "output_type": "stream",
     "text": [
      "100%|███████████████████████████████████████████████████████████████████████████| 9806/9806 [00:19<00:00, 506.78it/s]\n"
     ]
    },
    {
     "name": "stdout",
     "output_type": "stream",
     "text": [
      "reid_one_shot_Mistral7b\n"
     ]
    },
    {
     "name": "stderr",
     "output_type": "stream",
     "text": [
      "100%|███████████████████████████████████████████████████████████████████████████| 9817/9817 [00:19<00:00, 510.97it/s]\n"
     ]
    },
    {
     "name": "stdout",
     "output_type": "stream",
     "text": [
      "reid_keyword_gpt-35-turbo-a0301\n"
     ]
    },
    {
     "name": "stderr",
     "output_type": "stream",
     "text": [
      "100%|███████████████████████████████████████████████████████████████████████████| 9812/9812 [00:18<00:00, 523.87it/s]\n"
     ]
    },
    {
     "name": "stdout",
     "output_type": "stream",
     "text": [
      "reid_keyword_gpt-4-0613\n"
     ]
    },
    {
     "name": "stderr",
     "output_type": "stream",
     "text": [
      "100%|███████████████████████████████████████████████████████████████████████████| 9810/9810 [00:18<00:00, 516.63it/s]\n"
     ]
    },
    {
     "name": "stdout",
     "output_type": "stream",
     "text": [
      "reid_keyword_Mistral7b\n"
     ]
    },
    {
     "name": "stderr",
     "output_type": "stream",
     "text": [
      "100%|███████████████████████████████████████████████████████████████████████████| 9817/9817 [00:18<00:00, 519.19it/s]\n"
     ]
    },
    {
     "name": "stdout",
     "output_type": "stream",
     "text": [
      "reid_one_shot_src_gpt-35-turbo-a0301\n"
     ]
    },
    {
     "name": "stderr",
     "output_type": "stream",
     "text": [
      "100%|███████████████████████████████████████████████████████████████████████████| 9782/9782 [00:18<00:00, 536.49it/s]\n"
     ]
    },
    {
     "name": "stdout",
     "output_type": "stream",
     "text": [
      "reid_one_shot_src_gpt-4-0613\n"
     ]
    },
    {
     "name": "stderr",
     "output_type": "stream",
     "text": [
      "100%|███████████████████████████████████████████████████████████████████████████| 3457/3457 [00:06<00:00, 530.35it/s]\n"
     ]
    },
    {
     "name": "stdout",
     "output_type": "stream",
     "text": [
      "reid_one_shot_src_Mistral7b\n"
     ]
    },
    {
     "name": "stderr",
     "output_type": "stream",
     "text": [
      "100%|███████████████████████████████████████████████████████████████████████████| 9817/9817 [00:18<00:00, 516.85it/s]\n"
     ]
    },
    {
     "name": "stdout",
     "output_type": "stream",
     "text": [
      "deid_one_shot_gpt-35-turbo-a0301\n"
     ]
    },
    {
     "name": "stderr",
     "output_type": "stream",
     "text": [
      "100%|███████████████████████████████████████████████████████████████████████████| 9798/9798 [00:20<00:00, 467.09it/s]\n"
     ]
    },
    {
     "name": "stdout",
     "output_type": "stream",
     "text": [
      "deid_one_shot_gpt-4-0613\n"
     ]
    },
    {
     "name": "stderr",
     "output_type": "stream",
     "text": [
      "100%|███████████████████████████████████████████████████████████████████████████| 9809/9809 [00:18<00:00, 518.50it/s]\n"
     ]
    },
    {
     "name": "stdout",
     "output_type": "stream",
     "text": [
      "deid_one_shot_Mistral7b\n"
     ]
    },
    {
     "name": "stderr",
     "output_type": "stream",
     "text": [
      "100%|███████████████████████████████████████████████████████████████████████████| 9817/9817 [00:19<00:00, 503.73it/s]\n"
     ]
    },
    {
     "name": "stdout",
     "output_type": "stream",
     "text": [
      "deid_keyword_gpt-35-turbo-a0301\n"
     ]
    },
    {
     "name": "stderr",
     "output_type": "stream",
     "text": [
      "100%|███████████████████████████████████████████████████████████████████████████| 9808/9808 [00:18<00:00, 518.86it/s]\n"
     ]
    },
    {
     "name": "stdout",
     "output_type": "stream",
     "text": [
      "deid_keyword_gpt-4-0613\n"
     ]
    },
    {
     "name": "stderr",
     "output_type": "stream",
     "text": [
      "100%|███████████████████████████████████████████████████████████████████████████| 9809/9809 [00:19<00:00, 505.94it/s]\n"
     ]
    },
    {
     "name": "stdout",
     "output_type": "stream",
     "text": [
      "deid_keyword_Mistral7b\n"
     ]
    },
    {
     "name": "stderr",
     "output_type": "stream",
     "text": [
      "100%|███████████████████████████████████████████████████████████████████████████| 9817/9817 [00:19<00:00, 514.60it/s]\n"
     ]
    },
    {
     "name": "stdout",
     "output_type": "stream",
     "text": [
      "deid_one_shot_src_gpt-35-turbo-a0301\n"
     ]
    },
    {
     "name": "stderr",
     "output_type": "stream",
     "text": [
      "100%|███████████████████████████████████████████████████████████████████████████| 9810/9810 [00:18<00:00, 536.36it/s]\n"
     ]
    },
    {
     "name": "stdout",
     "output_type": "stream",
     "text": [
      "deid_one_shot_src_gpt-4-0613\n"
     ]
    },
    {
     "name": "stderr",
     "output_type": "stream",
     "text": [
      "100%|███████████████████████████████████████████████████████████████████████████| 9799/9799 [00:18<00:00, 527.34it/s]\n"
     ]
    },
    {
     "name": "stdout",
     "output_type": "stream",
     "text": [
      "deid_one_shot_src_Mistral7b\n"
     ]
    },
    {
     "name": "stderr",
     "output_type": "stream",
     "text": [
      "100%|███████████████████████████████████████████████████████████████████████████| 9817/9817 [00:19<00:00, 515.65it/s]\n"
     ]
    }
   ],
   "source": [
    "for data_type in data_type_ls:\n",
    "    # data_type = 'deid'\n",
    "    # data_type = 'reid'\n",
    "    src_note_dir = src_data_dict[data_type]\n",
    "    \n",
    "    src_output_dir = os.path.join( src_note_dir, OUTPUT_DIR)\n",
    "    src_df_ls = [pd.read_csv(os.path.join(src_output_dir, fn)) for fn in ['valid.csv', 'train.csv', 'test.csv'] if 'ipynb' not in fn]\n",
    "    src_df = pd.concat(src_df_ls, ignore_index=True)\n",
    "    del src_df_ls\n",
    "    src_df['icd9_fn'] = src_df['Three_Character_Labels'] + '_' + src_df['Admission_Id'].astype('str')+ '.txt'\n",
    "    \n",
    "    for generation_type in generation_ls:\n",
    "        for model in model_ls:\n",
    "            task_name = f'{data_type}_{generation_type}_{model}'\n",
    "            print(task_name)\n",
    "            result_pickle_fp = os.path.join(result_dir, f'{task_name}.pickle')\n",
    "            prompt_dir = os.path.join( root, f'src_{data_type}',OUTPUT_DIR)\n",
    "            generation_dir = os.path.join(prompt_dir, generation_type, model, OUTPUT_DIR)\n",
    "            # continue\n",
    "            syn_df_ls = [pd.read_csv(os.path.join(generation_dir, fn)) for fn in ['valid.csv', 'train.csv', 'test.csv'] if 'ipynb' not in fn]\n",
    "            syn_df = pd.concat(syn_df_ls, ignore_index=True)\n",
    "            del syn_df_ls\n",
    "            syn_df['icd9_fn'] = syn_df['Three_Character_Labels'] + '_' + syn_df['Admission_Id'].astype('str')+ '.txt'\n",
    "            # prep for dataframe\n",
    "            col_name = 'bleu'\n",
    "            df = pd.DataFrame(index=syn_df.icd9_fn.to_list(), columns=[col_name])\n",
    "            \n",
    "            for i in tqdm(range(syn_df.shape[0])):\n",
    "                syn_normal4k, icd9fn = syn_df.loc[i, ['Text', 'icd9_fn']]\n",
    "                src_normal4k = src_df[src_df.icd9_fn == icd9fn]['Text'].values[0]\n",
    "                df.loc[icd9fn, col_name] = bleu([syn_normal4k.split()],\n",
    "                                                 src_normal4k.split(),\n",
    "                                                 (1,), )\n",
    "            writePickle(result_pickle_fp, df)\n",
    "            lineMSG(f'72\\nCheck on BLEU {task_name} done!')"
   ]
  },
  {
   "cell_type": "code",
   "execution_count": null,
   "id": "8ca77300-4643-402b-9f51-1ab3e8c4ab3e",
   "metadata": {},
   "outputs": [],
   "source": []
  }
 ],
 "metadata": {
  "kernelspec": {
   "display_name": "Python 3 (ipykernel)",
   "language": "python",
   "name": "python3"
  },
  "language_info": {
   "codemirror_mode": {
    "name": "ipython",
    "version": 3
   },
   "file_extension": ".py",
   "mimetype": "text/x-python",
   "name": "python",
   "nbconvert_exporter": "python",
   "pygments_lexer": "ipython3",
   "version": "3.10.12"
  }
 },
 "nbformat": 4,
 "nbformat_minor": 5
}
